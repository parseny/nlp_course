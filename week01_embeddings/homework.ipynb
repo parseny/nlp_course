{
  "cells": [
    {
      "cell_type": "markdown",
      "metadata": {
        "id": "O4QwEb0SDS73"
      },
      "source": [
        "## Homework: Multilingual Embedding-based Machine Translation (7 points)"
      ]
    },
    {
      "cell_type": "markdown",
      "metadata": {
        "id": "3PbSwvNxDS8F"
      },
      "source": [
        "**In this homework** **<font color='red'>YOU</font>** will make machine translation system without using parallel corpora, alignment, attention, 100500 depth super-cool recurrent neural network and all that kind superstuff.\n",
        "\n",
        "But even without parallel corpora this system can be good enough (hopefully).\n",
        "\n",
        "For our system we choose two kindred Slavic languages: Ukrainian and Russian."
      ]
    },
    {
      "cell_type": "markdown",
      "metadata": {
        "id": "pcp80kLMDS8J"
      },
      "source": [
        "### Feel the difference!\n",
        "\n",
        "(_синій кіт_ vs. _синій кит_)"
      ]
    },
    {
      "cell_type": "markdown",
      "metadata": {
        "id": "E-zB_tLaDS8M"
      },
      "source": [
        "![blue_cat_blue_whale.png](https://github.com/yandexdataschool/nlp_course/raw/master/resources/blue_cat_blue_whale.png)"
      ]
    },
    {
      "cell_type": "markdown",
      "metadata": {
        "id": "v1CWYIxTDS8N"
      },
      "source": [
        "### Frament of the Swadesh list for some slavic languages\n",
        "\n",
        "The Swadesh list is a lexicostatistical stuff. It's named after American linguist Morris Swadesh and contains basic lexis. This list are used to define subgroupings of languages, its relatedness.\n",
        "\n",
        "So we can see some kind of word invariance for different Slavic languages.\n",
        "\n",
        "\n",
        "| Russian         | Belorussian              | Ukrainian               | Polish             | Czech                         | Bulgarian            |\n",
        "|-----------------|--------------------------|-------------------------|--------------------|-------------------------------|-----------------------|\n",
        "| женщина         | жанчына, кабета, баба    | жінка                   | kobieta            | žena                          | жена                  |\n",
        "| мужчина         | мужчына                  | чоловік, мужчина        | mężczyzna          | muž                           | мъж                   |\n",
        "| человек         | чалавек                  | людина, чоловік         | człowiek           | člověk                        | човек                 |\n",
        "| ребёнок, дитя   | дзіця, дзіцёнак, немаўля | дитина, дитя            | dziecko            | dítě                          | дете                  |\n",
        "| жена            | жонка                    | дружина, жінка          | żona               | žena, manželka, choť          | съпруга, жена         |\n",
        "| муж             | муж, гаспадар            | чоловiк, муж            | mąż                | muž, manžel, choť             | съпруг, мъж           |\n",
        "| мать, мама      | маці, матка              | мати, матір, неня, мама | matka              | matka, máma, 'стар.' mateř    | майка                 |\n",
        "| отец, тятя      | бацька, тата             | батько, тато, татусь    | ojciec             | otec                          | баща, татко           |\n",
        "| много           | шмат, багата             | багато                  | wiele              | mnoho, hodně                  | много                 |\n",
        "| несколько       | некалькі, колькі         | декілька, кілька        | kilka              | několik, pár, trocha          | няколко               |\n",
        "| другой, иной    | іншы                     | інший                   | inny               | druhý, jiný                   | друг                  |\n",
        "| зверь, животное | жывёла, звер, істота     | тварина, звір           | zwierzę            | zvíře                         | животно               |\n",
        "| рыба            | рыба                     | риба                    | ryba               | ryba                          | риба                  |\n",
        "| птица           | птушка                   | птах, птиця             | ptak               | pták                          | птица                 |\n",
        "| собака, пёс     | сабака                   | собака, пес             | pies               | pes                           | куче, пес             |\n",
        "| вошь            | вош                      | воша                    | wesz               | veš                           | въшка                 |\n",
        "| змея, гад       | змяя                     | змія, гад               | wąż                | had                           | змия                  |\n",
        "| червь, червяк   | чарвяк                   | хробак, черв'як         | robak              | červ                          | червей                |\n",
        "| дерево          | дрэва                    | дерево                  | drzewo             | strom, dřevo                  | дърво                 |\n",
        "| лес             | лес                      | ліс                     | las                | les                           | гора, лес             |\n",
        "| палка           | кій, палка               | палиця                  | patyk, pręt, pałka | hůl, klacek, prut, kůl, pálka | палка, пръчка, бастун |"
      ]
    },
    {
      "cell_type": "markdown",
      "metadata": {
        "id": "EXXAMJPiDS8Q"
      },
      "source": [
        "But the context distribution of these languages demonstrates even more invariance. And we can use this fact for our for our purposes."
      ]
    },
    {
      "cell_type": "markdown",
      "metadata": {
        "id": "NnNlkkgZDS8S"
      },
      "source": [
        "## Data"
      ]
    },
    {
      "cell_type": "code",
      "execution_count": null,
      "metadata": {
        "id": "aufjdQgrDS8U"
      },
      "outputs": [],
      "source": [
        "import gensim\n",
        "import numpy as np\n",
        "from gensim.models import KeyedVectors"
      ]
    },
    {
      "cell_type": "markdown",
      "metadata": {
        "id": "K76QA8OUDS8Z"
      },
      "source": [
        "Download embeddings here:\n",
        "* [cc.uk.300.vec.zip](https://yadi.sk/d/9CAeNsJiInoyUA)\n",
        "* [cc.ru.300.vec.zip](https://yadi.sk/d/3yG0-M4M8fypeQ)"
      ]
    },
    {
      "cell_type": "markdown",
      "metadata": {
        "id": "TpEcO8EgDS8a"
      },
      "source": [
        "Load embeddings for ukrainian and russian."
      ]
    },
    {
      "cell_type": "code",
      "source": [
        "from google.colab import drive\n",
        "drive.mount('/content/drive')"
      ],
      "metadata": {
        "colab": {
          "base_uri": "https://localhost:8080/"
        },
        "id": "OXRA7qLmDcun",
        "outputId": "2566e843-f0a6-4512-e4bc-aeb09059f211"
      },
      "execution_count": null,
      "outputs": [
        {
          "output_type": "stream",
          "name": "stdout",
          "text": [
            "Mounted at /content/drive\n"
          ]
        }
      ]
    },
    {
      "cell_type": "code",
      "source": [
        "!ls /content/drive/MyDrive/Datasets/week01-embeddings/cc.uk.300.vec.zip"
      ],
      "metadata": {
        "colab": {
          "base_uri": "https://localhost:8080/"
        },
        "id": "n-4xlhxcFaBJ",
        "outputId": "2bae2bc3-918b-4cf2-d7db-0608be44c0c6"
      },
      "execution_count": null,
      "outputs": [
        {
          "output_type": "stream",
          "name": "stdout",
          "text": [
            "cc.ru.300.vec.zip  cc.uk.300.vec.zip\n"
          ]
        }
      ]
    },
    {
      "cell_type": "code",
      "source": [
        "!unzip /content/drive/MyDrive/Datasets/week01-embeddings/cc.uk.300.vec.zip"
      ],
      "metadata": {
        "colab": {
          "base_uri": "https://localhost:8080/"
        },
        "id": "zVGfeyu1DoBY",
        "outputId": "6378b7c1-ff1f-4f5c-c9d1-a7720b91fc8a"
      },
      "execution_count": null,
      "outputs": [
        {
          "output_type": "stream",
          "name": "stdout",
          "text": [
            "Archive:  /content/drive/MyDrive/Datasets/week01-embeddings/cc.uk.300.vec.zip\n",
            "  inflating: cc.uk.300.vec           \n"
          ]
        }
      ]
    },
    {
      "cell_type": "code",
      "source": [
        "!unzip /content/drive/MyDrive/Datasets/week01-embeddings/cc.ru.300.vec.zip"
      ],
      "metadata": {
        "colab": {
          "base_uri": "https://localhost:8080/"
        },
        "id": "GG4F9d5vGKx1",
        "outputId": "06dff863-3254-4578-cf97-a718e183bf40"
      },
      "execution_count": null,
      "outputs": [
        {
          "output_type": "stream",
          "name": "stdout",
          "text": [
            "Archive:  /content/drive/MyDrive/Datasets/week01-embeddings/cc.ru.300.vec.zip\n",
            "  inflating: cc.ru.300.vec           \n"
          ]
        }
      ]
    },
    {
      "cell_type": "code",
      "execution_count": null,
      "metadata": {
        "id": "FbjITJMSDS8b"
      },
      "outputs": [],
      "source": [
        "uk_emb = KeyedVectors.load_word2vec_format(\"cc.uk.300.vec\")"
      ]
    },
    {
      "cell_type": "code",
      "execution_count": null,
      "metadata": {
        "id": "Ga2RsXODDS8c"
      },
      "outputs": [],
      "source": [
        "ru_emb = KeyedVectors.load_word2vec_format(\"cc.ru.300.vec\")"
      ]
    },
    {
      "cell_type": "code",
      "execution_count": null,
      "metadata": {
        "colab": {
          "base_uri": "https://localhost:8080/"
        },
        "id": "E9N9RNELDS8d",
        "outputId": "b05dfec8-acd6-4ec7-df2b-04e58a47d81a"
      },
      "outputs": [
        {
          "output_type": "execute_result",
          "data": {
            "text/plain": [
              "[('август', 1.0000001192092896),\n",
              " ('июль', 0.9383152723312378),\n",
              " ('сентябрь', 0.9240029454231262),\n",
              " ('июнь', 0.9222574830055237),\n",
              " ('октябрь', 0.9095539450645447),\n",
              " ('ноябрь', 0.8930036425590515),\n",
              " ('апрель', 0.8729087114334106),\n",
              " ('декабрь', 0.8652557730674744),\n",
              " ('март', 0.8545795679092407),\n",
              " ('февраль', 0.8401415944099426)]"
            ]
          },
          "metadata": {},
          "execution_count": 17
        }
      ],
      "source": [
        "ru_emb.most_similar([ru_emb[\"август\"]], topn=10)"
      ]
    },
    {
      "cell_type": "code",
      "execution_count": null,
      "metadata": {
        "colab": {
          "base_uri": "https://localhost:8080/"
        },
        "id": "xjnyQG_jDS8e",
        "outputId": "142d2a22-89fd-4d3e-cd73-b2567dc9c922"
      },
      "outputs": [
        {
          "output_type": "execute_result",
          "data": {
            "text/plain": [
              "[('серпень', 0.9999998807907104),\n",
              " ('липень', 0.9096441268920898),\n",
              " ('вересень', 0.9016969203948975),\n",
              " ('червень', 0.8992518782615662),\n",
              " ('жовтень', 0.8810408115386963),\n",
              " ('листопад', 0.8787633180618286),\n",
              " ('квітень', 0.8592804670333862),\n",
              " ('грудень', 0.8586863279342651),\n",
              " ('травень', 0.840811014175415),\n",
              " ('лютий', 0.8256431221961975)]"
            ]
          },
          "metadata": {},
          "execution_count": 18
        }
      ],
      "source": [
        "uk_emb.most_similar([uk_emb[\"серпень\"]])"
      ]
    },
    {
      "cell_type": "code",
      "execution_count": null,
      "metadata": {
        "colab": {
          "base_uri": "https://localhost:8080/"
        },
        "id": "m3KhNbLgDS8f",
        "outputId": "bc47c9eb-4b3b-4594-95fb-abb8ead3af1a"
      },
      "outputs": [
        {
          "output_type": "execute_result",
          "data": {
            "text/plain": [
              "[('Недопустимость', 0.24435284733772278),\n",
              " ('конструктивность', 0.23293082416057587),\n",
              " ('офор', 0.23256804049015045),\n",
              " ('deteydlya', 0.230317160487175),\n",
              " ('пресечении', 0.22632381319999695),\n",
              " ('одностороннего', 0.22608886659145355),\n",
              " ('подход', 0.2230587750673294),\n",
              " ('иболее', 0.22003726661205292),\n",
              " ('2015Александр', 0.21872766315937042),\n",
              " ('конструктивен', 0.21796567738056183)]"
            ]
          },
          "metadata": {},
          "execution_count": 19
        }
      ],
      "source": [
        "ru_emb.most_similar([uk_emb[\"серпень\"]])"
      ]
    },
    {
      "cell_type": "markdown",
      "metadata": {
        "id": "pe-Rh4ohDS8f"
      },
      "source": [
        "Load small dictionaries for correspoinding words pairs as trainset and testset."
      ]
    },
    {
      "cell_type": "code",
      "execution_count": null,
      "metadata": {
        "id": "rC2j2nA0DS8g"
      },
      "outputs": [],
      "source": [
        "def load_word_pairs(filename):\n",
        "    uk_ru_pairs = []\n",
        "    uk_vectors = []\n",
        "    ru_vectors = []\n",
        "    with open(filename, \"r\") as inpf:\n",
        "        for line in inpf:\n",
        "            uk, ru = line.rstrip().split(\"\\t\")\n",
        "            if uk not in uk_emb or ru not in ru_emb:\n",
        "                continue\n",
        "            uk_ru_pairs.append((uk, ru))\n",
        "            uk_vectors.append(uk_emb[uk])\n",
        "            ru_vectors.append(ru_emb[ru])\n",
        "    return uk_ru_pairs, np.array(uk_vectors), np.array(ru_vectors)"
      ]
    },
    {
      "cell_type": "code",
      "source": [
        "path = \"/content/drive/MyDrive/Datasets/week01-embeddings/\""
      ],
      "metadata": {
        "id": "KO4XuEXIHnXr"
      },
      "execution_count": null,
      "outputs": []
    },
    {
      "cell_type": "code",
      "execution_count": null,
      "metadata": {
        "id": "mrs2cH3GDS8h"
      },
      "outputs": [],
      "source": [
        "uk_ru_train, X_train, Y_train = load_word_pairs(path + \"ukr_rus.train.txt\")"
      ]
    },
    {
      "cell_type": "code",
      "source": [
        "print(uk_ru_train[:5], X_train[:1], Y_train[:1])"
      ],
      "metadata": {
        "id": "ZXukxMoFHxrz"
      },
      "execution_count": null,
      "outputs": []
    },
    {
      "cell_type": "code",
      "execution_count": null,
      "metadata": {
        "id": "1mpA9YSeDS8i"
      },
      "outputs": [],
      "source": [
        "uk_ru_test, X_test, Y_test = load_word_pairs(path + \"ukr_rus.test.txt\")"
      ]
    },
    {
      "cell_type": "markdown",
      "metadata": {
        "id": "23IQLsQ_DS8j"
      },
      "source": [
        "## Embedding space mapping"
      ]
    },
    {
      "cell_type": "markdown",
      "metadata": {
        "id": "XtJsx9A4DS8j"
      },
      "source": [
        "Let $x_i \\in \\mathrm{R}^d$ be the distributed representation of word $i$ in the source language, and $y_i \\in \\mathrm{R}^d$ is the vector representation of its translation. Our purpose is to learn such linear transform $W$ that minimizes euclidian distance between $Wx_i$ and $y_i$ for some subset of word embeddings. Thus we can formulate so-called Procrustes problem:\n",
        "\n",
        "$$W^*= \\arg\\min_W \\sum_{i=1}^n||Wx_i - y_i||_2$$\n",
        "or\n",
        "$$W^*= \\arg\\min_W ||WX - Y||_F$$\n",
        "\n",
        "where $||*||_F$ - Frobenius norm.\n",
        "\n",
        "In Greek mythology, Procrustes or \"the stretcher\" was a rogue smith and bandit from Attica who attacked people by stretching them or cutting off their legs, so as to force them to fit the size of an iron bed. We make same bad things with source embedding space. Our Procrustean bed is target embedding space."
      ]
    },
    {
      "cell_type": "markdown",
      "metadata": {
        "id": "imBGRv4zDS8k"
      },
      "source": [
        "![embedding_mapping.png](https://github.com/yandexdataschool/nlp_course/raw/master/resources/embedding_mapping.png)"
      ]
    },
    {
      "cell_type": "markdown",
      "metadata": {
        "id": "wfc4nPJuDS8k"
      },
      "source": [
        "![procrustes.png](https://github.com/yandexdataschool/nlp_course/raw/master/resources/procrustes.png)"
      ]
    },
    {
      "cell_type": "markdown",
      "metadata": {
        "id": "6hqNHg54DS8l"
      },
      "source": [
        "But wait...$W^*= \\arg\\min_W \\sum_{i=1}^n||Wx_i - y_i||_2$ looks like simple multiple linear regression (without intercept fit). So let's code."
      ]
    },
    {
      "cell_type": "code",
      "execution_count": null,
      "metadata": {
        "id": "6ILa-UYkDS8l"
      },
      "outputs": [],
      "source": [
        "from sklearn.linear_model import LinearRegression\n",
        "\n",
        "mapping = LinearRegression(fit_intercept=False).fit(X_train, Y_train)"
      ]
    },
    {
      "cell_type": "markdown",
      "metadata": {
        "id": "LCDU8rxzDS8m"
      },
      "source": [
        "Let's take a look at neigbours of the vector of word _\"серпень\"_ (_\"август\"_ in Russian) after linear transform."
      ]
    },
    {
      "cell_type": "code",
      "execution_count": null,
      "metadata": {
        "colab": {
          "base_uri": "https://localhost:8080/"
        },
        "id": "c6M7JQ5ODS8m",
        "outputId": "55a1638a-4ffa-4768-a9e5-84e8acaa1ac9"
      },
      "outputs": [
        {
          "output_type": "execute_result",
          "data": {
            "text/plain": [
              "[('апрель', 0.8541285991668701),\n",
              " ('июнь', 0.8411202430725098),\n",
              " ('март', 0.839699387550354),\n",
              " ('сентябрь', 0.835986852645874),\n",
              " ('февраль', 0.8329297304153442),\n",
              " ('октябрь', 0.8311845660209656),\n",
              " ('ноябрь', 0.8278923630714417),\n",
              " ('июль', 0.8234528303146362),\n",
              " ('август', 0.812049925327301),\n",
              " ('декабрь', 0.803900420665741)]"
            ]
          },
          "metadata": {},
          "execution_count": 58
        }
      ],
      "source": [
        "august = mapping.predict(uk_emb[\"серпень\"].reshape(1, -1))\n",
        "ru_emb.most_similar(august)"
      ]
    },
    {
      "cell_type": "code",
      "source": [
        "[i[0] for i in ru_emb.most_similar(august)]"
      ],
      "metadata": {
        "colab": {
          "base_uri": "https://localhost:8080/"
        },
        "id": "YP8Ll5CsNemc",
        "outputId": "5c5769a2-3182-4e15-a64c-5102992bf59a"
      },
      "execution_count": null,
      "outputs": [
        {
          "output_type": "execute_result",
          "data": {
            "text/plain": [
              "['апрель',\n",
              " 'июнь',\n",
              " 'март',\n",
              " 'сентябрь',\n",
              " 'февраль',\n",
              " 'октябрь',\n",
              " 'ноябрь',\n",
              " 'июль',\n",
              " 'август',\n",
              " 'декабрь']"
            ]
          },
          "metadata": {},
          "execution_count": 59
        }
      ]
    },
    {
      "cell_type": "markdown",
      "metadata": {
        "id": "FzB1AdOxDS8n"
      },
      "source": [
        "We can see that neighbourhood of this embedding cosists of different months, but right variant is on the ninth place."
      ]
    },
    {
      "cell_type": "markdown",
      "metadata": {
        "id": "v_aLCqcNDS8n"
      },
      "source": [
        "As quality measure we will use precision top-1, top-5 and top-10 (for each transformed Ukrainian embedding we count how many right target pairs are found in top N nearest neighbours in Russian embedding space)."
      ]
    },
    {
      "cell_type": "code",
      "execution_count": null,
      "metadata": {
        "id": "YvWTDjpjDS8o"
      },
      "outputs": [],
      "source": [
        "def precision(pairs, mapped_vectors, topn=1):\n",
        "    \"\"\"\n",
        "    :args:\n",
        "        pairs = list of right word pairs [(uk_word_0, ru_word_0), ...]\n",
        "        mapped_vectors = list of embeddings after mapping from source embedding space to destination embedding space\n",
        "        topn = the number of nearest neighbours in destination embedding space to choose from\n",
        "    :returns:\n",
        "        precision_val, float number, total number of words for those we can find right translation at top K.\n",
        "    \"\"\"\n",
        "    assert len(pairs) == len(mapped_vectors)\n",
        "    num_matches = 0\n",
        "    for i, (_, ru) in enumerate(pairs):\n",
        "        neighbours = [i[0] for i in ru_emb.most_similar(mapped_vectors[i])][:topn]\n",
        "        if ru in neighbours:\n",
        "          num_matches += 1\n",
        "\n",
        "    precision_val = num_matches / len(pairs)\n",
        "    return precision_val\n"
      ]
    },
    {
      "cell_type": "code",
      "execution_count": null,
      "metadata": {
        "id": "G5lq_AK7DS8p"
      },
      "outputs": [],
      "source": [
        "assert precision([(\"серпень\", \"август\")], august, topn=5) == 0.0\n",
        "assert precision([(\"серпень\", \"август\")], august, topn=9) == 1.0\n",
        "assert precision([(\"серпень\", \"август\")], august, topn=10) == 1.0"
      ]
    },
    {
      "cell_type": "code",
      "execution_count": null,
      "metadata": {
        "id": "CbE7rb5YDS8p"
      },
      "outputs": [],
      "source": [
        "assert precision(uk_ru_test, X_test) == 0.0\n",
        "assert precision(uk_ru_test, Y_test) == 1.0"
      ]
    },
    {
      "cell_type": "code",
      "execution_count": null,
      "metadata": {
        "colab": {
          "base_uri": "https://localhost:8080/"
        },
        "id": "ATtRXF4VDS8q",
        "outputId": "e532ca4d-18ec-411b-8c2c-11d49d3571c3"
      },
      "outputs": [
        {
          "output_type": "stream",
          "name": "stdout",
          "text": [
            "0.813953488372093\n"
          ]
        }
      ],
      "source": [
        "precision_top1 = precision(uk_ru_test, mapping.predict(X_test), 1)\n",
        "precision_top5 = precision(uk_ru_test, mapping.predict(X_test), 5)\n",
        "\n",
        "assert precision_top1 >= 0.635\n",
        "print(precision_top5)\n",
        "assert precision_top5 >= 0.813"
      ]
    },
    {
      "cell_type": "markdown",
      "metadata": {
        "id": "kiIFv68kDS8q"
      },
      "source": [
        "## Making it better (orthogonal Procrustean problem)"
      ]
    },
    {
      "cell_type": "markdown",
      "metadata": {
        "id": "vFNo4uzKDS8r"
      },
      "source": [
        "It can be shown (see original paper) that a self-consistent linear mapping between semantic spaces should be orthogonal.\n",
        "We can restrict transform $W$ to be orthogonal. Then we will solve next problem:\n",
        "\n",
        "$$W^*= \\arg\\min_W ||WX - Y||_F \\text{, where: } W^TW = I$$\n",
        "\n",
        "$$I \\text{- identity matrix}$$\n",
        "\n",
        "Instead of making yet another regression problem we can find optimal orthogonal transformation using singular value decomposition. It turns out that optimal transformation $W^*$ can be expressed via SVD components:\n",
        "$$X^TY=U\\Sigma V^T\\text{, singular value decompostion}$$\n",
        "$$W^*=UV^T$$"
      ]
    },
    {
      "cell_type": "code",
      "execution_count": null,
      "metadata": {
        "id": "eU53g3DaDS8r"
      },
      "outputs": [],
      "source": [
        "def learn_transform(X_train, Y_train):\n",
        "    \"\"\"\n",
        "    :returns: W* : float matrix[emb_dim x emb_dim] as defined in formulae above\n",
        "    \"\"\"\n",
        "    matrix = X_train.T @ Y_train\n",
        "    u, sigma, vt = np.linalg.svd(matrix)\n",
        "    W_star = np.dot(u, vt)\n",
        "\n",
        "    return W_star"
      ]
    },
    {
      "cell_type": "code",
      "execution_count": null,
      "metadata": {
        "id": "oNSgLdJNDS8s"
      },
      "outputs": [],
      "source": [
        "W = learn_transform(X_train, Y_train)"
      ]
    },
    {
      "cell_type": "code",
      "execution_count": null,
      "metadata": {
        "colab": {
          "base_uri": "https://localhost:8080/"
        },
        "id": "z2Gk85jYDS8s",
        "outputId": "2b75814d-5872-4ef9-9558-9ef0532e2826"
      },
      "outputs": [
        {
          "output_type": "execute_result",
          "data": {
            "text/plain": [
              "[('апрель', 0.8237906694412231),\n",
              " ('сентябрь', 0.8049713373184204),\n",
              " ('март', 0.8025653958320618),\n",
              " ('июнь', 0.8021842241287231),\n",
              " ('октябрь', 0.8001735806465149),\n",
              " ('ноябрь', 0.7934483289718628),\n",
              " ('февраль', 0.7914120554924011),\n",
              " ('июль', 0.7908109426498413),\n",
              " ('август', 0.7891016602516174),\n",
              " ('декабрь', 0.7686373591423035)]"
            ]
          },
          "metadata": {},
          "execution_count": 66
        }
      ],
      "source": [
        "ru_emb.most_similar([np.matmul(uk_emb[\"серпень\"], W)])"
      ]
    },
    {
      "cell_type": "code",
      "execution_count": null,
      "metadata": {
        "id": "Wx5GXXxUDS8t"
      },
      "outputs": [],
      "source": [
        "assert precision(uk_ru_test, np.matmul(X_test, W)) >= 0.653\n",
        "assert precision(uk_ru_test, np.matmul(X_test, W), 5) >= 0.824"
      ]
    },
    {
      "cell_type": "markdown",
      "metadata": {
        "id": "meck3Yz3DS8-"
      },
      "source": [
        "## UK-RU Translator"
      ]
    },
    {
      "cell_type": "markdown",
      "metadata": {
        "id": "8Kr6L7eUDS8_"
      },
      "source": [
        "Now we are ready to make simple word-based translator: for earch word in source language in shared embedding space we find the nearest in target language.\n"
      ]
    },
    {
      "cell_type": "code",
      "execution_count": null,
      "metadata": {
        "id": "C7xvLXLaDS8_"
      },
      "outputs": [],
      "source": [
        "with open(path + \"fairy_tale.txt\", \"r\") as inpf:\n",
        "    uk_sentences = [line.rstrip().lower() for line in inpf]"
      ]
    },
    {
      "cell_type": "code",
      "source": [
        "uk_emb[\"кіт\"]"
      ],
      "metadata": {
        "id": "IXqR0DbSedGF"
      },
      "execution_count": null,
      "outputs": []
    },
    {
      "cell_type": "code",
      "execution_count": null,
      "metadata": {
        "id": "Hbd8qs9aDS9A"
      },
      "outputs": [],
      "source": [
        "def translate(sentence):\n",
        "    \"\"\"\n",
        "    :args:\n",
        "        sentence - sentence in Ukrainian (str)\n",
        "    :returns:\n",
        "        translation - sentence in Russian (str)\n",
        "\n",
        "    * find ukrainian embedding for each word in sentence\n",
        "    * transform ukrainian embedding vector\n",
        "    * find nearest russian word and replace\n",
        "    \"\"\"\n",
        "    emb = []\n",
        "    for s in sentence.split():\n",
        "      if s in uk_emb.key_to_index:\n",
        "        emb.append(uk_emb[s])\n",
        "      else:\n",
        "        emb.append(uk_emb[\"*\"])\n",
        "    if len(emb) == 0:\n",
        "        return sentence\n",
        "    else:\n",
        "      transform = np.matmul(emb, W)\n",
        "      trslt = []\n",
        "      for t in transform:\n",
        "        trslt.append(ru_emb.most_similar(t)[0][0])\n",
        "      return ' '.join([item if item != '*' else '*' * 4 for item in trslt])"
      ]
    },
    {
      "cell_type": "markdown",
      "source": [
        "Было принято решение не найденные слова заменять на ****. 4 потому что средняя длина слов во всех предложениях 4."
      ],
      "metadata": {
        "id": "p8-4fB7BpF4f"
      }
    },
    {
      "cell_type": "code",
      "source": [
        "np.mean([len(s) for sent in uk_sentences for s in sent.split() ])"
      ],
      "metadata": {
        "colab": {
          "base_uri": "https://localhost:8080/"
        },
        "id": "pBJttE2boaa2",
        "outputId": "572e6a5e-e77e-4146-91e9-f1cb17633308"
      },
      "execution_count": null,
      "outputs": [
        {
          "output_type": "execute_result",
          "data": {
            "text/plain": [
              "4.13484251968504"
            ]
          },
          "metadata": {},
          "execution_count": 102
        }
      ]
    },
    {
      "cell_type": "code",
      "execution_count": null,
      "metadata": {
        "id": "EnMW6Wg1DS9B"
      },
      "outputs": [],
      "source": [
        "assert translate(\".\") == \".\"\n",
        "assert translate(\"1 , 3\") == \"1 , 3\"\n",
        "assert translate(\"кіт зловив мишу\") == \"кот поймал мышку\""
      ]
    },
    {
      "cell_type": "code",
      "execution_count": null,
      "metadata": {
        "colab": {
          "base_uri": "https://localhost:8080/"
        },
        "id": "kSMUmm-pDS9C",
        "outputId": "04e10b88-4745-4b00-a903-eda99eff7ba9"
      },
      "outputs": [
        {
          "output_type": "stream",
          "name": "stdout",
          "text": [
            "src: лисичка - сестричка і вовк - панібрат\n",
            "dst: лисичка – сестричка и волк – ****\n",
            "\n",
            "src: як була собі лисичка та зробила хатку, та й живе. а це приходять холоди. от лисичка замерзла та й побігла в село вогню добувать, щоб витопити. прибігає до одної баби та й каже:\n",
            "dst: как была себе лисичка и сделала **** и и **** а оно приходят **** из лисичка замерзла и и побежала во село огня **** чтобы **** прибегает к одной бабы и и ****\n",
            "\n",
            "src: — здорові були, бабусю! з неділею... позичте мені огню, я вам одслужу.\n",
            "dst: — здоровые **** **** со **** **** мне **** мной тебе ****\n",
            "\n",
            "src: — добре, — каже, — лисичко - сестричко. сідай погрійся трохи, поки я пиріжечки повибираю з печі!\n",
            "dst: — **** — **** — **** – **** садись **** **** пока мной пирожки **** со ****\n",
            "\n",
            "src: а баба макові пиріжки пекла. от баба вибирає пиріжки та на столі кладе, щоб прохололи; а лисичка підгляділа та за пиріг, та з хати... виїла мачок із середини, а туди напхала сміттячка, стулила та й біжить.\n",
            "dst: а бабка маковые пирожки **** из бабка выбирает пирожки и по столе **** чтобы **** а лисичка **** и за **** и со **** **** **** со **** а туда **** **** **** и и ****\n",
            "\n",
            "src: от біжить, а хлопці товар женуть до води.\n",
            "dst: из **** а парни товар гонят к воды\n",
            "\n",
            "src: — здорові були, хлопці!\n",
            "dst: — здоровые **** ****\n",
            "\n",
            "src: — здорова, лисичко - сестричко!\n",
            "dst: — **** **** – ****\n",
            "\n",
            "src: — проміняйте мені бичка - третячка на маковий пиріжок!\n",
            "dst: — **** мне бычка – **** по маковый ****\n",
            "\n",
            "src: — добре, — кажуть.\n",
            "dst: — **** — ****\n",
            "\n",
            "src: — тільки, — каже, — тепер не їжте, а як я вибіжу з села, то тоді.\n",
            "dst: — **** — **** — теперь не **** а как мной **** со **** то ****\n",
            "\n",
            "src: от помінялись. лисичка за бичка — та в ліс. а хлопці до пиріжка — а там сміттянко.\n",
            "dst: из **** лисичка за бычка — и во сельско а парни к пирожка — а там ****\n",
            "\n",
            "src: от прибігла лисичка до своєї хатки, вирубала дерево, зробила санки, запрягла бичка — іде. аж біжить вовк:\n",
            "dst: из прибежала лисичка к своего **** **** **** сделала **** **** бычка — **** аж бежит ****\n",
            "\n",
            "src: — здорова, лисичко - сестричко!\n",
            "dst: — **** **** – ****\n",
            "\n",
            "src: — здоров, вовчику - братику!\n",
            "dst: — **** **** – ****\n",
            "\n",
            "src: — де ти взяла бичка - третячка і санки?\n",
            "dst: — куда ты взяла бычка – **** и ****\n",
            "\n",
            "src: — зробила собі!\n",
            "dst: — сделала ****\n",
            "\n",
            "src: — підвези ж, — каже, — мене, лисичко - сестричко!\n",
            "dst: — **** **** — **** — **** **** – ****\n",
            "\n",
            "src: — е, куди я тебе візьму? ти мені й санки поламаєш!\n",
            "dst: — **** куда мной тебя **** ты мне и санки ****\n",
            "\n",
            "src: — ні, — каже, — я тільки одну ніжку положу.\n",
            "dst: — **** — **** — мной только одну ножку ****\n",
            "\n",
            "src: — ну, клади!\n",
            "dst: — **** ****\n",
            "\n",
            "src: от од’їхали трохи, вовк і каже:\n",
            "dst: из **** **** волк и ****\n",
            "\n",
            "src: — положу я, лисичко - сестричко, й другу ніжку!\n",
            "dst: — **** **** **** – **** и вторую ****\n",
            "\n",
            "src: — е, вовчику - братику, ти мені й санки поламаєш!\n",
            "dst: — **** **** – **** ты мне и санки ****\n",
            "\n",
            "src: — ні, — каже, — не поламаю!\n",
            "dst: — **** — **** — не ****\n",
            "\n",
            "src: — ну, клади!\n",
            "dst: — **** ****\n",
            "\n",
            "src: вовк і положив. ідуть, їдуть, коли це щось — трісь.\n",
            "dst: волк и **** **** **** когда оно что-то — ****\n",
            "\n",
            "src: — е, вовчику - братику, ти мені вже й санки ламаєш!\n",
            "dst: — **** **** – **** ты мне уже и санки ****\n",
            "\n",
            "src: — ні лисичко - сестричко, то я орішок розкусив.\n",
            "dst: — ни **** – **** то мной **** ****\n",
            "\n",
            "src: — ну, гляди!\n",
            "dst: — **** ****\n",
            "\n",
            "src: от їдуть...\n",
            "dst: из ****\n",
            "\n",
            "src: — положу я, лисичко - сестричко, й третю ніжку! — каже вовк.\n",
            "dst: — **** **** **** – **** и третью **** — говорит ****\n",
            "\n",
            "src: — куди ти положиш? ти мені санки поламаєш! чим я тоді дровець привезу?\n",
            "dst: — куда ты **** ты мне санки **** Чем мной тогда **** ****\n",
            "\n",
            "src: — ні, — каже, — не поламаю.\n",
            "dst: — **** — **** — не ****\n",
            "\n",
            "src: — ну, клади.\n",
            "dst: — **** ****\n",
            "\n",
            "src: вовк положив і третю ногу. коли це — трісь!\n",
            "dst: волк положил и третью **** когда оно — ****\n",
            "\n",
            "src: — ой лихо! — каже лисичка. — йди собі геть, вовчику, — ти мені зовсім санки поламаєш.\n",
            "dst: — ой **** — говорит **** — иди себе **** **** — ты мне совсем санки ****\n",
            "\n",
            "src: — ні, то я орішок розкусив!\n",
            "dst: — **** то мной **** ****\n",
            "\n",
            "src: — дай же й мені!\n",
            "dst: — дай то и ****\n",
            "\n",
            "src: — нема, — каже, — останній!\n",
            "dst: — **** — **** — ****\n",
            "\n",
            "src: їдуть собі та й їдуть; вовчик і каже:\n",
            "dst: едут себе и и **** **** и ****\n",
            "\n",
            "src: — сяду я зовсім, лисичко!\n",
            "dst: — сяду мной **** ****\n",
            "\n",
            "src: — куди ти сядеш, вовчику - братику? і санки розламаєш!\n",
            "dst: — куда ты **** **** – **** и санки ****\n",
            "\n",
            "src: — я помаленьку, — каже.\n",
            "dst: — мной **** — ****\n",
            "\n",
            "src: — ну, гляди!\n",
            "dst: — **** ****\n",
            "\n",
            "src: от вовчик тільки що сів, а санки так і розпались... лисичка тоді давай його лаять! лаяла - лаяла та й каже:\n",
            "dst: из **** только что **** а санки так и **** лисичка тогда давай его **** ругала – ругала и и ****\n",
            "\n",
            "src: — піди ж, сякий - такий сину, дровець нарубай і на санки вирубай, і приволочи!\n",
            "dst: — пойди **** **** – такой **** **** **** и по санки **** и ****\n",
            "\n",
            "src: — як же я, — каже вовчик, — вирубаю, коли я не знаю, якого дерева?\n",
            "dst: — как то **** — говорит **** — **** когда мной не **** которого ****\n",
            "\n",
            "src: — е, — сякий - такий сину! як санчата ламать, так і знав, а дровець вирубать, то й ні!\n",
            "dst: — **** — **** – такой **** как санки **** так и **** а **** **** то и ****\n",
            "\n",
            "src: коришувала його, коришувала...\n",
            "dst: **** **** ****\n",
            "\n",
            "src: — як увійдеш, — каже, — в ліс, то кажи: « рубайся, дерево, й пряме, й криве! рубайся, дерево, й пряме, й криве! »\n",
            "dst: — как **** — **** — во **** то **** « **** **** и **** и **** **** **** и **** и **** »\n",
            "\n",
            "src: вовк і пішов.\n",
            "dst: волк и ****\n",
            "\n",
            "src: от приходить в ліс та й каже:\n",
            "dst: из приходит во лес и и ****\n",
            "\n",
            "src: — рубайся, дерево, криве й криве!\n",
            "dst: — **** **** кривое и ****\n",
            "\n",
            "src: дерево й нарубалось. таке корячкувате, що й на палицю не вибереш — не то на полозок! приносить вовчик до лисички те дерево. вона як подивилась, давай його знов батькувати.\n",
            "dst: дерево и **** такое **** что и по палку не выберешь — не то по **** приносит **** к лисички что **** она как **** давай его снова ****\n",
            "\n",
            "src: — ти, — каже, — сякий - такий сину, не так казав, як я тобі веліла!\n",
            "dst: — **** — **** — **** – такой **** не так **** как мной тебе ****\n",
            "\n",
            "src: — ні, лисичко - сестричко, я, — каже, — стояв та все казав: « рубайся, дерево, криве й криве! »\n",
            "dst: — **** **** – **** **** — **** — стоял и всё **** « **** **** кривое и **** »\n",
            "\n",
            "src: — е, бісів сину, й того недотепний! ну, сиди ж ти тут, — я сама піду нарубаю.\n",
            "dst: — **** бесов **** и того **** **** сиди же ты **** — мной сама пойду ****\n",
            "\n",
            "src: та й пішла.\n",
            "dst: и и ****\n",
            "\n",
            "src: от сидить вовк сам собі — так їсти хочеться! він думав - думав: « давай, — каже, — з’їм бичка та й утечу! » от взяв проїв дірку у бичка, із середини все виїв, а туди горобців напустив і соломою заткнув, а сам — драла... приходить лисичка, зробила санчата, сіла...\n",
            "dst: из сидит волк сам себе — так кушать **** он думал – **** « **** — **** — **** бычка и и **** » из взял **** дыру во **** со середины всё **** а туда воробьёв напустил и соломой **** а сам — **** приходит **** сделала **** ****\n",
            "\n",
            "src: — гей, бичок - третячок!\n",
            "dst: — **** бычок – ****\n",
            "\n",
            "src: аж бичок не везе. вона його батогом. як ударила, а віхоть соломи й випав; а горобці — хррр!\n",
            "dst: аж бычок не **** она его **** как **** а **** соломы и **** а воробьи — ****\n",
            "\n",
            "src: — а, сякий - такий вовчик! постій же, — каже, — я тобі згадаю!\n",
            "dst: — **** **** – такой **** постой **** — **** — мной тебе ****\n",
            "\n",
            "src: та й пішла...\n",
            "dst: и и ****\n",
            "\n",
            "src: лягла на шляху та й лежить. ідуть чумаки з рибою; вона притаїлась, мов нежива. чумаки дивляться — аж лисиця:\n",
            "dst: легла по пути и и **** идут казаки со **** она **** языки **** казаки смотрят — аж ****\n",
            "\n",
            "src: — візьмім, — кажуть, — бра, та продамо — буде за що хоч погрітися!\n",
            "dst: — **** — **** — **** и продадим — будет за что хоть ****\n",
            "\n",
            "src: скинули її на останній віз та й поїхали. ідуть та й їдуть. а лисичка - сестричка бачить, що вони не дивляться, та все кида по рибці на дорогу, все кида... от як накидала вже багато, тоді нишком і сама злізла. чумаки ж поїхали собі далі, а вона позбирала рибку, сіла та й їсть.\n",
            "dst: сбросили ей по последний визы и и **** идут и и **** а лисичка – сестричка **** что они не **** и всё **** по рыбки по **** всё **** из как навязала уже **** тогда втихаря и сама **** казаки же поехали себе **** а она **** **** присела и и ****\n",
            "\n",
            "src: коли це біжить вовчик:\n",
            "dst: когда оно бежит ****\n",
            "\n",
            "src: — здорова була, лисичко - сестричко!\n",
            "dst: — здоровая **** **** – ****\n",
            "\n",
            "src: — здоров, вовчику - братику!\n",
            "dst: — **** **** – ****\n",
            "\n",
            "src: — що ти робиш, лисичко - сестричко?\n",
            "dst: — что ты **** **** – ****\n",
            "\n",
            "src: — рибу, — каже, — їм.\n",
            "dst: — **** — **** — ****\n",
            "\n",
            "src: — дай же й мені!\n",
            "dst: — дай то и ****\n",
            "\n",
            "src: — піди собі налови.\n",
            "dst: — пойди себе ****\n",
            "\n",
            "src: — так як же я наловлю, коли я не вмію?\n",
            "dst: — так как то мной **** когда мной не ****\n",
            "\n",
            "src: — ну, як знаєш, а я не дам і кісточки!\n",
            "dst: — **** как **** а мной не дам и ****\n",
            "\n",
            "src: — так хоч навчи мене, як наловить.\n",
            "dst: — так хоть научить **** как ****\n",
            "\n",
            "src: а лисичка й дума: « постій же! ти мого бичка - третячка з’їв — я тепер тобі оддячу! »\n",
            "dst: а лисичка и **** « постой **** ты моего бычка – **** **** — мной теперь тебе **** »\n",
            "\n",
            "src: — а так, — каже, — піди до ополонки, устроми в ополонку хвіст та потихеньку води ним і приказуй: « ловись, рибко, мала й велика! ловись, рибко, мала й велика! » то вона й наловиться.\n",
            "dst: — а **** — **** — пойди к **** **** во прорубь хвост и потихоньку воды ним и **** « **** **** имела и **** **** **** имела и **** » то она и ****\n",
            "\n",
            "src: — ну, спасибі за науку! — каже вовчик.\n",
            "dst: — **** спасибо за **** — говорит ****\n",
            "\n",
            "src: от прибігає вовчик до ополонки, устромив в ополонку хвіст:\n",
            "dst: из прибегает **** к **** **** во прорубь ****\n",
            "\n",
            "src: — ловись, — каже, — рибко, мала й велика!\n",
            "dst: — **** — **** — **** имела и ****\n",
            "\n",
            "src: а лисичка з очерету:\n",
            "dst: а лисичка со ****\n",
            "\n",
            "src: — мерзни, мерзни, вовчий хвіст!\n",
            "dst: — **** **** волчий ****\n",
            "\n",
            "src: а мороз надворі такий, що аж шкварчить! вовчик хвостиком усе водить та:\n",
            "dst: а мороз дворе **** что аж **** **** хвостиком всё водит ****\n",
            "\n",
            "src: — ловись, рибко, мала й велика!\n",
            "dst: — **** **** имела и ****\n",
            "\n",
            "src: а лисичка:\n",
            "dst: а ****\n",
            "\n",
            "src: — мерзни, мерзни, вовчий хвіст!\n",
            "dst: — **** **** волчий ****\n",
            "\n",
            "src: поки ловив вовчик рибу, поки хвіст так і прикипів в ополонці! тоді лисичка в село:\n",
            "dst: пока ловил **** **** пока хвост так и пугаясь во **** тогда лисичка во ****\n",
            "\n",
            "src: — ідіть, люди, вовка бить!\n",
            "dst: — **** **** волка ****\n",
            "\n",
            "src: люди як вискочать — з кочергами, з рогачами, із сокирами: вбили того вовка і пропав бідний! а лисичка й досі живе у своїй хатці.\n",
            "dst: люди как **** — со **** со **** со **** убили того волка и пропал **** а лисичка и сих живет во своей ****\n",
            "\n"
          ]
        }
      ],
      "source": [
        "for sentence in uk_sentences:\n",
        "    print(\"src: {}\\ndst: {}\\n\".format(sentence, translate(sentence)))"
      ]
    },
    {
      "cell_type": "markdown",
      "metadata": {
        "id": "yBOooYzkDS9D"
      },
      "source": [
        "Not so bad, right? We can easily improve translation using language model and not one but several nearest neighbours in shared embedding space. But next time."
      ]
    },
    {
      "cell_type": "markdown",
      "metadata": {
        "id": "uBCoaIC9DS9D"
      },
      "source": [
        "## Would you like to learn more?\n",
        "\n",
        "### Articles:\n",
        "* [Exploiting Similarities among Languages for Machine Translation](https://arxiv.org/pdf/1309.4168)  - entry point for multilingual embedding studies by Tomas Mikolov (the author of W2V)\n",
        "* [Offline bilingual word vectors, orthogonal transformations and the inverted softmax](https://arxiv.org/pdf/1702.03859) - orthogonal transform for unsupervised MT\n",
        "* [Word Translation Without Parallel Data](https://arxiv.org/pdf/1710.04087)\n",
        "* [Loss in Translation: Learning Bilingual Word Mapping with a Retrieval Criterion](https://arxiv.org/pdf/1804.07745)\n",
        "* [Unsupervised Alignment of Embeddings with Wasserstein Procrustes](https://arxiv.org/pdf/1805.11222)\n",
        "\n",
        "### Repos (with ready-to-use multilingual embeddings):\n",
        "* https://github.com/facebookresearch/MUSE\n",
        "\n",
        "* https://github.com/Babylonpartners/fastText_multilingual -"
      ]
    }
  ],
  "metadata": {
    "kernelspec": {
      "display_name": "Python 3",
      "language": "python",
      "name": "python3"
    },
    "language_info": {
      "codemirror_mode": {
        "name": "ipython",
        "version": 3
      },
      "file_extension": ".py",
      "mimetype": "text/x-python",
      "name": "python",
      "nbconvert_exporter": "python",
      "pygments_lexer": "ipython3",
      "version": "3.4.3"
    },
    "colab": {
      "provenance": []
    }
  },
  "nbformat": 4,
  "nbformat_minor": 0
}